{
 "cells": [
  {
   "cell_type": "markdown",
   "metadata": {},
   "source": [
    "# Ipython Notebook para curso Python Birds\n",
    "https://www.python.pro.br/modulos/python-birds/\n",
    "\n",
    "1. Programação Procedural\n",
    "1.1 Introdução\n",
    "\n",
    "1.2 Tipo Básicos\n",
    "1.3 Containers e Iteração\n",
    "1.4 Modularização\n",
    "\n",
    "2. Orientação a Objetos\n",
    "2.1 Classe e Composição\n",
    "2.2 Herança\n"
   ]
  }
 ],
 "metadata": {
  "kernelspec": {
   "display_name": "Python 3",
   "language": "python",
   "name": "python3"
  },
  "language_info": {
   "codemirror_mode": {
    "name": "ipython",
    "version": 3
   },
   "file_extension": ".py",
   "mimetype": "text/x-python",
   "name": "python",
   "nbconvert_exporter": "python",
   "pygments_lexer": "ipython3",
   "version": "3.6.8"
  }
 },
 "nbformat": 4,
 "nbformat_minor": 2
}
